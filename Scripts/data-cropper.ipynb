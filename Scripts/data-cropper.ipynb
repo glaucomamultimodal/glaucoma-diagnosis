{
 "cells": [
  {
   "cell_type": "code",
   "execution_count": 1,
   "id": "e9739719",
   "metadata": {
    "_cell_guid": "b1076dfc-b9ad-4769-8c92-a6c4dae69d19",
    "_uuid": "8f2839f25d086af736a60e9eeb907d3b93b6e0e5",
    "execution": {
     "iopub.execute_input": "2022-06-26T23:53:06.964867Z",
     "iopub.status.busy": "2022-06-26T23:53:06.963662Z",
     "iopub.status.idle": "2022-06-26T23:53:12.634392Z",
     "shell.execute_reply": "2022-06-26T23:53:12.633246Z"
    },
    "papermill": {
     "duration": 5.678474,
     "end_time": "2022-06-26T23:53:12.636739",
     "exception": false,
     "start_time": "2022-06-26T23:53:06.958265",
     "status": "completed"
    },
    "tags": []
   },
   "outputs": [
    {
     "name": "stdout",
     "output_type": "stream",
     "text": [
      "/kaggle/input/eurecom-aml-2021-challenge-2/sample_submission.csv\n",
      "/kaggle/input/eurecom-aml-2021-challenge-2/refuge_data/refuge_data/val/index.json\n",
      "/kaggle/input/eurecom-aml-2021-challenge-2/refuge_data/refuge_data/val/gts/V0399.bmp\n",
      "/kaggle/input/eurecom-aml-2021-challenge-2/refuge_data/refuge_data/val/images/V0190.jpg\n",
      "/kaggle/input/eurecom-aml-2021-challenge-2/refuge_data/refuge_data/test/index.json\n",
      "/kaggle/input/eurecom-aml-2021-challenge-2/refuge_data/refuge_data/test/gts/T0037.bmp\n",
      "/kaggle/input/eurecom-aml-2021-challenge-2/refuge_data/refuge_data/test/images/T0247.jpg\n",
      "/kaggle/input/eurecom-aml-2021-challenge-2/refuge_data/refuge_data/train/index.json\n",
      "/kaggle/input/eurecom-aml-2021-challenge-2/refuge_data/refuge_data/train/gts/n0222.bmp\n",
      "/kaggle/input/eurecom-aml-2021-challenge-2/refuge_data/refuge_data/train/images/n0166.jpg\n",
      "/kaggle/input/eurecom-aml-2021-challenge-2/refuge_data/refuge_data/train/illustrations/n0166.jpg\n"
     ]
    }
   ],
   "source": [
    "# This Python 3 environment comes with many helpful analytics libraries installed\n",
    "# It is defined by the kaggle/python Docker image: https://github.com/kaggle/docker-python\n",
    "# For example, here's several helpful packages to load\n",
    "\n",
    "import numpy as np # linear algebra\n",
    "import pandas as pd # data processing, CSV file I/O (e.g. pd.read_csv)\n",
    "import tensorflow as tf\n",
    "from tensorflow import keras\n",
    "\n",
    "import os\n",
    "from matplotlib import pyplot as plt\n",
    "import cv2\n",
    "\n",
    "# Input data files are available in the read-only \"../input/\" directory\n",
    "# For example, running this (by clicking run or pressing Shift+Enter) will list all files under the input directory\n",
    "\n",
    "for dirname, _, filenames in os.walk('/kaggle/input'):\n",
    "    for filename in filenames:\n",
    "        print(os.path.join(dirname, filename))\n",
    "        break\n",
    "\n",
    "# You can write up to 20GB to the current directory (/kaggle/working/) that gets preserved as output when you create a version using \"Save & Run All\" \n",
    "# You can also write temporary files to /kaggle/temp/, but they won't be saved outside of the current session"
   ]
  },
  {
   "cell_type": "code",
   "execution_count": 2,
   "id": "28fd06d8",
   "metadata": {
    "execution": {
     "iopub.execute_input": "2022-06-26T23:53:12.645264Z",
     "iopub.status.busy": "2022-06-26T23:53:12.644140Z",
     "iopub.status.idle": "2022-06-26T23:53:12.654431Z",
     "shell.execute_reply": "2022-06-26T23:53:12.653463Z"
    },
    "papermill": {
     "duration": 0.016058,
     "end_time": "2022-06-26T23:53:12.656478",
     "exception": false,
     "start_time": "2022-06-26T23:53:12.640420",
     "status": "completed"
    },
    "tags": []
   },
   "outputs": [],
   "source": [
    "def remove_nerves(image):\n",
    "    img = tf.keras.utils.array_to_img(image)\n",
    "    # fig = plt.figure(figsize=(50,20))\n",
    "    # plt.title('Original'); plt.imshow(img); plt.show()\n",
    "    orig_size = np.array(img).shape[:2]\n",
    "    orig_size = (orig_size[1], orig_size[0])\n",
    "    # print(orig_size)\n",
    "    img = cv2.resize(np.array(img),(1024,1024))\n",
    "    img = cv2.cvtColor(np.array(img), cv2.COLOR_BGR2RGB)\n",
    "    # plt.subplot(1, 5, 1)\n",
    "    # plt.imshow(img)\n",
    "    # plt.axis('off')\n",
    "    # plt.title('Original')\n",
    "\n",
    "    # convert image to grayScale\n",
    "    grayScale = cv2.cvtColor(img, cv2.COLOR_RGB2GRAY)\n",
    "    # plt.subplot(1, 5, 2)\n",
    "    # plt.imshow(grayScale)\n",
    "    # plt.axis('off')\n",
    "    # plt.title('GrayScale')\n",
    "\n",
    "    # kernel for morphologyEx\n",
    "    kernel = cv2.getStructuringElement(1,(17,17))\n",
    "\n",
    "\n",
    "    # apply MORPH_BLACKHAT to grayScale image\n",
    "    blackhat = cv2.morphologyEx(grayScale, cv2.MORPH_BLACKHAT, kernel)\n",
    "    # plt.subplot(1, 5, 3)\n",
    "    # plt.imshow(blackhat)\n",
    "    # plt.axis('off')\n",
    "    # plt.title('blackhat')\n",
    "\n",
    "    # apply thresholding to blackhat\n",
    "    _,threshold = cv2.threshold(blackhat,10,255,cv2.THRESH_BINARY)\n",
    "    # plt.subplot(1, 5, 4)\n",
    "    # plt.imshow(threshold)\n",
    "    # plt.axis('off')\n",
    "    # plt.title('threshold')\n",
    "\n",
    "    # inpaint with original image and threshold image\n",
    "    final_image = cv2.inpaint(img,threshold,1,cv2.INPAINT_TELEA)\n",
    "    # plt.subplot(1, 5, 5)\n",
    "    # plt.imshow(cv2.cvtColor(final_image, cv2.COLOR_BGR2RGB))\n",
    "    # plt.axis('off')\n",
    "    # plt.title('final_image')\n",
    "\n",
    "    # plt.plot()\n",
    "    final_image = cv2.cvtColor(final_image, cv2.COLOR_BGR2RGB)\n",
    "    final_image = cv2.resize(final_image,orig_size)\n",
    "    # plt.title('No Nerve'); plt.imshow(final_image); plt.show()\n",
    "    return final_image#.astype(np.float64)/255.0"
   ]
  },
  {
   "cell_type": "code",
   "execution_count": 3,
   "id": "e3092476",
   "metadata": {
    "execution": {
     "iopub.execute_input": "2022-06-26T23:53:12.663727Z",
     "iopub.status.busy": "2022-06-26T23:53:12.663473Z",
     "iopub.status.idle": "2022-06-26T23:53:12.672200Z",
     "shell.execute_reply": "2022-06-26T23:53:12.671134Z"
    },
    "papermill": {
     "duration": 0.014713,
     "end_time": "2022-06-26T23:53:12.674039",
     "exception": false,
     "start_time": "2022-06-26T23:53:12.659326",
     "status": "completed"
    },
    "tags": []
   },
   "outputs": [
    {
     "data": {
      "text/plain": [
       "['gts', 'images', 'index.json', 'illustrations']"
      ]
     },
     "execution_count": 3,
     "metadata": {},
     "output_type": "execute_result"
    }
   ],
   "source": [
    "TRAIN_DIR = '/kaggle/input/eurecom-aml-2021-challenge-2/refuge_data/refuge_data/train/'\n",
    "os.listdir(TRAIN_DIR)"
   ]
  },
  {
   "cell_type": "code",
   "execution_count": 4,
   "id": "81685955",
   "metadata": {
    "execution": {
     "iopub.execute_input": "2022-06-26T23:53:12.681154Z",
     "iopub.status.busy": "2022-06-26T23:53:12.680903Z",
     "iopub.status.idle": "2022-06-26T23:53:12.684915Z",
     "shell.execute_reply": "2022-06-26T23:53:12.683888Z"
    },
    "papermill": {
     "duration": 0.009957,
     "end_time": "2022-06-26T23:53:12.687031",
     "exception": false,
     "start_time": "2022-06-26T23:53:12.677074",
     "status": "completed"
    },
    "tags": []
   },
   "outputs": [],
   "source": [
    "images = os.path.join(TRAIN_DIR, 'images')\n",
    "masks = os.path.join(TRAIN_DIR, 'gts')"
   ]
  },
  {
   "cell_type": "code",
   "execution_count": 5,
   "id": "7fb84d5a",
   "metadata": {
    "execution": {
     "iopub.execute_input": "2022-06-26T23:53:12.694720Z",
     "iopub.status.busy": "2022-06-26T23:53:12.693949Z",
     "iopub.status.idle": "2022-06-26T23:53:12.702489Z",
     "shell.execute_reply": "2022-06-26T23:53:12.701683Z"
    },
    "papermill": {
     "duration": 0.014693,
     "end_time": "2022-06-26T23:53:12.704618",
     "exception": false,
     "start_time": "2022-06-26T23:53:12.689925",
     "status": "completed"
    },
    "tags": []
   },
   "outputs": [],
   "source": [
    "from PIL import Image\n",
    "def crop_image(image_path, mask_path, remove_nerves=False):\n",
    "    image = cv2.cvtColor(cv2.imread(os.path.join(images, image_path)), cv2.COLOR_BGR2RGB)\n",
    "    raw_mask = np.array(Image.open(os.path.join(masks, mask_path), mode='r'))\n",
    "    mask = raw_mask.copy()\n",
    "    raw_mask[raw_mask == 128] = 1\n",
    "    raw_mask[raw_mask == 0] = 2\n",
    "    raw_mask[raw_mask == 255] = 0\n",
    "\n",
    "    \n",
    "    # invert mask colors\n",
    "    mask[mask == 255] = 100\n",
    "    mask[mask == 128] = 0\n",
    "    mask[mask == 0] = 1\n",
    "    mask[mask == 100] = 0\n",
    "    ret,thresh = cv2.threshold(mask,0, 1, 0)\n",
    "    contours,hierarchy = cv2.findContours(thresh, 1, 2)\n",
    "    cnt = contours[0]\n",
    "    x,y,w,h = cv2.boundingRect(cnt)\n",
    "    return image, raw_mask\n",
    "    "
   ]
  },
  {
   "cell_type": "code",
   "execution_count": 6,
   "id": "a00228f1",
   "metadata": {
    "execution": {
     "iopub.execute_input": "2022-06-26T23:53:12.711992Z",
     "iopub.status.busy": "2022-06-26T23:53:12.711708Z",
     "iopub.status.idle": "2022-06-26T23:54:53.841672Z",
     "shell.execute_reply": "2022-06-26T23:54:53.840454Z"
    },
    "papermill": {
     "duration": 101.1369,
     "end_time": "2022-06-26T23:54:53.844810",
     "exception": false,
     "start_time": "2022-06-26T23:53:12.707910",
     "status": "completed"
    },
    "tags": []
   },
   "outputs": [],
   "source": [
    "save_dir = \"./train_cropped\"\n",
    "!mkdir \"train_cropped\"\n",
    "!mkdir \"train_cropped/images\"\n",
    "!mkdir \"train_cropped/masks\"\n",
    "\n",
    "for ind, f in enumerate(os.listdir(images)):\n",
    "    fname = f[:-4]\n",
    "    image, mask = crop_image(fname + \".jpg\", fname + \".bmp\")\n",
    "    #print(ind)\n",
    "    msk = Image.fromarray(mask.astype('uint8'), 'L')\n",
    "    msk.save(os.path.join(save_dir + \"/masks\", fname + '.png'))\n",
    "#     im = Image.fromarray(image)\n",
    "#     im.save(os.path.join(save_dir + \"/images\", fname + '.jpg'))"
   ]
  },
  {
   "cell_type": "code",
   "execution_count": 7,
   "id": "a60afa87",
   "metadata": {
    "execution": {
     "iopub.execute_input": "2022-06-26T23:54:53.853022Z",
     "iopub.status.busy": "2022-06-26T23:54:53.852708Z",
     "iopub.status.idle": "2022-06-26T23:54:54.519334Z",
     "shell.execute_reply": "2022-06-26T23:54:54.518116Z"
    },
    "papermill": {
     "duration": 0.673665,
     "end_time": "2022-06-26T23:54:54.521976",
     "exception": false,
     "start_time": "2022-06-26T23:54:53.848311",
     "status": "completed"
    },
    "tags": []
   },
   "outputs": [
    {
     "name": "stdout",
     "output_type": "stream",
     "text": [
      "/kaggle/working/train_cropped\n"
     ]
    }
   ],
   "source": [
    "%cd /kaggle/working/train_cropped\n",
    "%ls images/"
   ]
  },
  {
   "cell_type": "code",
   "execution_count": 8,
   "id": "83a2f671",
   "metadata": {
    "execution": {
     "iopub.execute_input": "2022-06-26T23:54:54.531423Z",
     "iopub.status.busy": "2022-06-26T23:54:54.529754Z",
     "iopub.status.idle": "2022-06-26T23:54:54.538001Z",
     "shell.execute_reply": "2022-06-26T23:54:54.537175Z"
    },
    "papermill": {
     "duration": 0.014564,
     "end_time": "2022-06-26T23:54:54.540018",
     "exception": false,
     "start_time": "2022-06-26T23:54:54.525454",
     "status": "completed"
    },
    "tags": []
   },
   "outputs": [
    {
     "name": "stdout",
     "output_type": "stream",
     "text": [
      "/kaggle/working/train_cropped\n"
     ]
    }
   ],
   "source": [
    "%cd /kaggle/working/train_cropped\n",
    "from IPython.display import FileLinks\n",
    "#FileLinks(r'masks')"
   ]
  },
  {
   "cell_type": "code",
   "execution_count": null,
   "id": "677a41f3",
   "metadata": {
    "papermill": {
     "duration": 0.00295,
     "end_time": "2022-06-26T23:54:54.546067",
     "exception": false,
     "start_time": "2022-06-26T23:54:54.543117",
     "status": "completed"
    },
    "tags": []
   },
   "outputs": [],
   "source": []
  }
 ],
 "metadata": {
  "kernelspec": {
   "display_name": "Python 3",
   "language": "python",
   "name": "python3"
  },
  "language_info": {
   "codemirror_mode": {
    "name": "ipython",
    "version": 3
   },
   "file_extension": ".py",
   "mimetype": "text/x-python",
   "name": "python",
   "nbconvert_exporter": "python",
   "pygments_lexer": "ipython3",
   "version": "3.7.12"
  },
  "papermill": {
   "default_parameters": {},
   "duration": 118.376,
   "end_time": "2022-06-26T23:54:57.392961",
   "environment_variables": {},
   "exception": null,
   "input_path": "__notebook__.ipynb",
   "output_path": "__notebook__.ipynb",
   "parameters": {},
   "start_time": "2022-06-26T23:52:59.016961",
   "version": "2.3.4"
  }
 },
 "nbformat": 4,
 "nbformat_minor": 5
}
