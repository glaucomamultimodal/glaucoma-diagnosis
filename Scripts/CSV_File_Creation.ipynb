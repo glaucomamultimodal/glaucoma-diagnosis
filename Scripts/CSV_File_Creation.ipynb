{
  "nbformat": 4,
  "nbformat_minor": 0,
  "metadata": {
    "colab": {
      "name": "CSV File Creation.ipynb",
      "provenance": [],
      "collapsed_sections": []
    },
    "kernelspec": {
      "name": "python3",
      "display_name": "Python 3"
    },
    "language_info": {
      "name": "python"
    }
  },
  "cells": [
    {
      "cell_type": "code",
      "execution_count": null,
      "metadata": {
        "id": "T6cXyqmtkXZs"
      },
      "outputs": [],
      "source": [
        "from PIL import Image\n",
        "import tensorflow as tf\n",
        "import pandas as pd\n",
        "import numpy as np\n",
        "import cv2\n",
        "import matplotlib.pyplot as plt"
      ]
    },
    {
      "cell_type": "code",
      "source": [
        "info = {'Image': [], 'Source': [], 'Cropped': [], 'CDR': [], 'Ecc-Cup': [], 'Ecc-Disc': [], 'Label': []}"
      ],
      "metadata": {
        "id": "Ie5hz2zQkdAW"
      },
      "execution_count": null,
      "outputs": []
    },
    {
      "cell_type": "code",
      "source": [
        "from google.colab import drive\n",
        "drive.mount('/content/drive')"
      ],
      "metadata": {
        "colab": {
          "base_uri": "https://localhost:8080/"
        },
        "id": "bTJzGJBM9xTy",
        "outputId": "afc62a67-b3f4-4937-972e-8a6f47544f6b"
      },
      "execution_count": null,
      "outputs": [
        {
          "output_type": "stream",
          "name": "stdout",
          "text": [
            "Mounted at /content/drive\n"
          ]
        }
      ]
    },
    {
      "cell_type": "code",
      "source": [
        "ROOT_DIR = '/content/drive/My Drive'"
      ],
      "metadata": {
        "id": "08ThtGeHmszB"
      },
      "execution_count": null,
      "outputs": []
    },
    {
      "cell_type": "code",
      "source": [
        "import os"
      ],
      "metadata": {
        "id": "GDxX07YH-pin"
      },
      "execution_count": null,
      "outputs": []
    },
    {
      "cell_type": "code",
      "source": [
        "os.listdir(ROOT_DIR)"
      ],
      "metadata": {
        "colab": {
          "base_uri": "https://localhost:8080/"
        },
        "id": "qXRG2tD5-qrB",
        "outputId": "ac2e70f9-cdb9-4128-91e5-bd52bdb4aa7e"
      },
      "execution_count": null,
      "outputs": [
        {
          "output_type": "execute_result",
          "data": {
            "text/plain": [
              "['Colab Notebooks',\n",
              " 'Datasets.gsheet',\n",
              " 'Research Plan.gdoc',\n",
              " 'ToDo.gdoc',\n",
              " 'Models',\n",
              " 'Todo.gdoc',\n",
              " 'Results.gsheet',\n",
              " 'ForKaggle',\n",
              " 'CNN_numerical.ipynb']"
            ]
          },
          "metadata": {},
          "execution_count": 6
        }
      ]
    },
    {
      "cell_type": "code",
      "source": [
        "dataset = os.path.join(ROOT_DIR, 'ForKaggle')"
      ],
      "metadata": {
        "id": "iHTCuFw--sfL"
      },
      "execution_count": null,
      "outputs": []
    },
    {
      "cell_type": "code",
      "source": [
        "cropped = os.path.join(dataset, 'Cropped_Data')"
      ],
      "metadata": {
        "id": "ccAair3b_Urz"
      },
      "execution_count": null,
      "outputs": []
    },
    {
      "cell_type": "code",
      "source": [
        "os.listdir(cropped)"
      ],
      "metadata": {
        "colab": {
          "base_uri": "https://localhost:8080/"
        },
        "id": "zbl_KIIG_ldg",
        "outputId": "29219eca-c321-49a9-aa21-a02a093d68c8"
      },
      "execution_count": null,
      "outputs": [
        {
          "output_type": "execute_result",
          "data": {
            "text/plain": [
              "['G1020', 'REFUGE', 'ACRIMA', 'Drishti', 'ORIGA', 'origa_g1020.csv']"
            ]
          },
          "metadata": {},
          "execution_count": 17
        }
      ]
    },
    {
      "cell_type": "code",
      "source": [
        "def get_eccentricity(cnt):\n",
        "  ellipse = cv2.fitEllipse(cnt)\n",
        "  center = ellipse[0]\n",
        "  axis_lens = ellipse[1]\n",
        "  a = max(axis_lens[0], axis_lens[1])\n",
        "  b = min(axis_lens[0], axis_lens[1])\n",
        "  c = ((a**2)-(b**2))**(0.5)\n",
        "  return c/a\n",
        "\n",
        "def get_major_axis_len(cnt):\n",
        "  ellipse = cv2.fitEllipse(cnt)\n",
        "  center = ellipse[0]\n",
        "  axis_lens = ellipse[1]\n",
        "  a = max(axis_lens[0], axis_lens[1])\n",
        "  return a\n",
        "\n",
        "\n",
        "def calc_CDR(cnt_disc, cnt_cup):\n",
        "  disc_height = get_major_axis_len(cnt_disc)\n",
        "  cup_height = get_major_axis_len(cnt_cup)\n",
        "  return cup_height/disc_height\n",
        "\n",
        "def get_numerical_features(mask):\n",
        "  # disk\n",
        "  ret,thresh = cv2.threshold(mask, 0, 1, 0)\n",
        "  contours,hierarchy = cv2.findContours(thresh, 1, 2)\n",
        "  cnt_disc = contours[0]\n",
        "  disk_ecc = get_eccentricity(cnt_disc)\n",
        "\n",
        "  # cup\n",
        "  try:\n",
        "    ret,thresh = cv2.threshold(mask, 1, 2, 0)\n",
        "    contours,hierarchy = cv2.findContours(thresh, 1, 2)\n",
        "    cnt_cup = contours[0]\n",
        "    cup_ecc = get_eccentricity(cnt_cup)\n",
        "    cdr = calc_CDR(cnt_disc, cnt_cup)\n",
        "  except:\n",
        "    cup_ecc = np.nan\n",
        "    cdr = np.nan\n",
        "  return cdr, cup_ecc, disk_ecc\n",
        "\n",
        "def get_CDR(mask):\n",
        "  disc = np.sum(mask[mask == 1])\n",
        "  cup = np.sum(mask[mask == 2])\n",
        "  return cup/(disc+cup)"
      ],
      "metadata": {
        "id": "ZDmvCPC2TIaL"
      },
      "execution_count": null,
      "outputs": []
    },
    {
      "cell_type": "code",
      "source": [
        "sample_mask = get_mask_from_path('/content/drive/My Drive/ForKaggle/Cropped_Data/ORIGA/Masks/003.png')\n",
        "plt.imshow(sample_mask)"
      ],
      "metadata": {
        "id": "2GU4CHWSfl1g",
        "colab": {
          "base_uri": "https://localhost:8080/",
          "height": 286
        },
        "outputId": "5df6fdaf-003b-4eec-9e3e-eee49e91a21e"
      },
      "execution_count": null,
      "outputs": [
        {
          "output_type": "execute_result",
          "data": {
            "text/plain": [
              "<matplotlib.image.AxesImage at 0x7fa755734cd0>"
            ]
          },
          "metadata": {},
          "execution_count": 29
        },
        {
          "output_type": "display_data",
          "data": {
            "text/plain": [
              "<Figure size 432x288 with 1 Axes>"
            ],
            "image/png": "[encoded data removed]"
          },
          "metadata": {
            "needs_background": "light"
          }
        }
      ]
    },
    {
      "cell_type": "code",
      "source": [
        "get_numerical_features(sample_mask)"
      ],
      "metadata": {
        "colab": {
          "base_uri": "https://localhost:8080/"
        },
        "id": "4-M1EOaMXF-O",
        "outputId": "1063cf0f-a687-46da-cc08-20c8991b6855"
      },
      "execution_count": null,
      "outputs": [
        {
          "output_type": "execute_result",
          "data": {
            "text/plain": [
              "(0.9620225297242785, 0.29930338121188416, 0.2628280690153354)"
            ]
          },
          "metadata": {},
          "execution_count": 30
        }
      ]
    },
    {
      "cell_type": "markdown",
      "source": [
        "### ORIGA"
      ],
      "metadata": {
        "id": "2UoYnpGrm29v"
      }
    },
    {
      "cell_type": "code",
      "source": [
        "origa_dir = os.path.join(cropped, 'ORIGA')\n",
        "os.listdir(origa_dir)"
      ],
      "metadata": {
        "colab": {
          "base_uri": "https://localhost:8080/"
        },
        "id": "Tid2aUC1_mz0",
        "outputId": "81d732e6-d4bd-4954-f7ed-9c6ad28286da"
      },
      "execution_count": null,
      "outputs": [
        {
          "output_type": "execute_result",
          "data": {
            "text/plain": [
              "['Images', 'Masks', 'OrigaList.csv', 'origa_info.csv']"
            ]
          },
          "metadata": {},
          "execution_count": 31
        }
      ]
    },
    {
      "cell_type": "code",
      "source": [
        "img_dir = os.path.join(origa_dir, 'Images')\n",
        "csv_path = os.path.join(origa_dir, 'OrigaList.csv')\n",
        "mask_dir = os.path.join(origa_dir, 'Masks')"
      ],
      "metadata": {
        "id": "5DUCxzP4Ftr0"
      },
      "execution_count": null,
      "outputs": []
    },
    {
      "cell_type": "code",
      "source": [
        "origa_info = pd.read_csv(csv_path)\n",
        "origa_info.head()"
      ],
      "metadata": {
        "colab": {
          "base_uri": "https://localhost:8080/",
          "height": 206
        },
        "id": "UgUYSloPUB3x",
        "outputId": "912fef7f-2c2f-4b25-eef4-54a7427eb209"
      },
      "execution_count": null,
      "outputs": [
        {
          "output_type": "execute_result",
          "data": {
            "text/plain": [
              "  Eye Filename  ExpCDR Set  Glaucoma\n",
              "0  OD  001.jpg  0.7097   A         0\n",
              "1  OS  002.jpg  0.6953   A         0\n",
              "2  OS  003.jpg  0.9629   A         0\n",
              "3  OD  004.jpg  0.7246   A         0\n",
              "4  OS  005.jpg  0.6138   A         0"
            ],
            "text/html": [
              "\n",
              "  <div id=\"df-1870f692-c68c-45dc-9f6a-7c4b92bb3b4d\">\n",
              "    <div class=\"colab-df-container\">\n",
              "      <div>\n",
              "<style scoped>\n",
              "    .dataframe tbody tr th:only-of-type {\n",
              "        vertical-align: middle;\n",
              "    }\n",
              "\n",
              "    .dataframe tbody tr th {\n",
              "        vertical-align: top;\n",
              "    }\n",
              "\n",
              "    .dataframe thead th {\n",
              "        text-align: right;\n",
              "    }\n",
              "</style>\n",
              "<table border=\"1\" class=\"dataframe\">\n",
              "  <thead>\n",
              "    <tr style=\"text-align: right;\">\n",
              "      <th></th>\n",
              "      <th>Eye</th>\n",
              "      <th>Filename</th>\n",
              "      <th>ExpCDR</th>\n",
              "      <th>Set</th>\n",
              "      <th>Glaucoma</th>\n",
              "    </tr>\n",
              "  </thead>\n",
              "  <tbody>\n",
              "    <tr>\n",
              "      <th>0</th>\n",
              "      <td>OD</td>\n",
              "      <td>001.jpg</td>\n",
              "      <td>0.7097</td>\n",
              "      <td>A</td>\n",
              "      <td>0</td>\n",
              "    </tr>\n",
              "    <tr>\n",
              "      <th>1</th>\n",
              "      <td>OS</td>\n",
              "      <td>002.jpg</td>\n",
              "      <td>0.6953</td>\n",
              "      <td>A</td>\n",
              "      <td>0</td>\n",
              "    </tr>\n",
              "    <tr>\n",
              "      <th>2</th>\n",
              "      <td>OS</td>\n",
              "      <td>003.jpg</td>\n",
              "      <td>0.9629</td>\n",
              "      <td>A</td>\n",
              "      <td>0</td>\n",
              "    </tr>\n",
              "    <tr>\n",
              "      <th>3</th>\n",
              "      <td>OD</td>\n",
              "      <td>004.jpg</td>\n",
              "      <td>0.7246</td>\n",
              "      <td>A</td>\n",
              "      <td>0</td>\n",
              "    </tr>\n",
              "    <tr>\n",
              "      <th>4</th>\n",
              "      <td>OS</td>\n",
              "      <td>005.jpg</td>\n",
              "      <td>0.6138</td>\n",
              "      <td>A</td>\n",
              "      <td>0</td>\n",
              "    </tr>\n",
              "  </tbody>\n",
              "</table>\n",
              "</div>\n",
              "      <button class=\"colab-df-convert\" onclick=\"convertToInteractive('df-1870f692-c68c-45dc-9f6a-7c4b92bb3b4d')\"\n",
              "              title=\"Convert this dataframe to an interactive table.\"\n",
              "              style=\"display:none;\">\n",
              "        \n",
              "  <svg xmlns=\"http://www.w3.org/2000/svg\" height=\"24px\"viewBox=\"0 0 24 24\"\n",
              "       width=\"24px\">\n",
              "    <path d=\"M0 0h24v24H0V0z\" fill=\"none\"/>\n",
              "    <path d=\"M18.56 5.44l.94 2.06.94-2.06 2.06-.94-2.06-.94-.94-2.06-.94 2.06-2.06.94zm-11 1L8.5 8.5l.94-2.06 2.06-.94-2.06-.94L8.5 2.5l-.94 2.06-2.06.94zm10 10l.94 2.06.94-2.06 2.06-.94-2.06-.94-.94-2.06-.94 2.06-2.06.94z\"/><path d=\"M17.41 7.96l-1.37-1.37c-.4-.4-.92-.59-1.43-.59-.52 0-1.04.2-1.43.59L10.3 9.45l-7.72 7.72c-.78.78-.78 2.05 0 2.83L4 21.41c.39.39.9.59 1.41.59.51 0 1.02-.2 1.41-.59l7.78-7.78 2.81-2.81c.8-.78.8-2.07 0-2.86zM5.41 20L4 18.59l7.72-7.72 1.47 1.35L5.41 20z\"/>\n",
              "  </svg>\n",
              "      </button>\n",
              "      \n",
              "  <style>\n",
              "    .colab-df-container {\n",
              "      display:flex;\n",
              "      flex-wrap:wrap;\n",
              "      gap: 12px;\n",
              "    }\n",
              "\n",
              "    .colab-df-convert {\n",
              "      background-color: #E8F0FE;\n",
              "      border: none;\n",
              "      border-radius: 50%;\n",
              "      cursor: pointer;\n",
              "      display: none;\n",
              "      fill: #1967D2;\n",
              "      height: 32px;\n",
              "      padding: 0 0 0 0;\n",
              "      width: 32px;\n",
              "    }\n",
              "\n",
              "    .colab-df-convert:hover {\n",
              "      background-color: #E2EBFA;\n",
              "      box-shadow: 0px 1px 2px rgba(60, 64, 67, 0.3), 0px 1px 3px 1px rgba(60, 64, 67, 0.15);\n",
              "      fill: #174EA6;\n",
              "    }\n",
              "\n",
              "    [theme=dark] .colab-df-convert {\n",
              "      background-color: #3B4455;\n",
              "      fill: #D2E3FC;\n",
              "    }\n",
              "\n",
              "    [theme=dark] .colab-df-convert:hover {\n",
              "      background-color: #434B5C;\n",
              "      box-shadow: 0px 1px 3px 1px rgba(0, 0, 0, 0.15);\n",
              "      filter: drop-shadow(0px 1px 2px rgba(0, 0, 0, 0.3));\n",
              "      fill: #FFFFFF;\n",
              "    }\n",
              "  </style>\n",
              "\n",
              "      <script>\n",
              "        const buttonEl =\n",
              "          document.querySelector('#df-1870f692-c68c-45dc-9f6a-7c4b92bb3b4d button.colab-df-convert');\n",
              "        buttonEl.style.display =\n",
              "          google.colab.kernel.accessAllowed ? 'block' : 'none';\n",
              "\n",
              "        async function convertToInteractive(key) {\n",
              "          const element = document.querySelector('#df-1870f692-c68c-45dc-9f6a-7c4b92bb3b4d');\n",
              "          const dataTable =\n",
              "            await google.colab.kernel.invokeFunction('convertToInteractive',\n",
              "                                                     [key], {});\n",
              "          if (!dataTable) return;\n",
              "\n",
              "          const docLinkHtml = 'Like what you see? Visit the ' +\n",
              "            '<a target=\"_blank\" href=https://colab.research.google.com/notebooks/data_table.ipynb>data table notebook</a>'\n",
              "            + ' to learn more about interactive tables.';\n",
              "          element.innerHTML = '';\n",
              "          dataTable['output_type'] = 'display_data';\n",
              "          await google.colab.output.renderOutput(dataTable, element);\n",
              "          const docLink = document.createElement('div');\n",
              "          docLink.innerHTML = docLinkHtml;\n",
              "          element.appendChild(docLink);\n",
              "        }\n",
              "      </script>\n",
              "    </div>\n",
              "  </div>\n",
              "  "
            ]
          },
          "metadata": {},
          "execution_count": 33
        }
      ]
    },
    {
      "cell_type": "code",
      "source": [
        "def get_mask_from_path(path):\n",
        "  return np.array(Image.open(path, mode='r'))"
      ],
      "metadata": {
        "id": "C2zpAVJkUYXI"
      },
      "execution_count": null,
      "outputs": []
    },
    {
      "cell_type": "code",
      "source": [
        "# info = {'Image': [], 'Source': [], 'Cropped': [], 'CDR': [], 'Ecc-Cup': [], 'Ecc-Disc': [], 'Label': []}\n",
        "img_paths = [os.path.join(img_dir, f) for f in origa_info['Filename']]\n",
        "msk_paths = [os.path.join(mask_dir, f[:-4]+'.png') for f in origa_info['Filename']]\n",
        "info['Image'].extend(img_paths)\n",
        "info['CDR'].extend(list(origa_info['ExpCDR']))\n",
        "info['Label'].extend(list(origa_info['Glaucoma'])) \n",
        "ecc_cup_origa = []\n",
        "ecc_disc_origa = []\n",
        "for f in msk_paths:\n",
        "  cdr, cecc, decc = get_numerical_features(get_mask_from_path(f))\n",
        "  ecc_cup_origa.append(cecc)\n",
        "  ecc_disc_origa.append(decc)\n",
        "\n",
        "info['Ecc-Cup'].extend(ecc_cup_origa)\n",
        "info['Ecc-Disc'].extend(ecc_disc_origa)\n",
        "source = ['Origa']*len(ecc_cup_origa)\n",
        "info['Source'].extend(source)\n",
        "cropped = [True]*len(ecc_cup_origa)\n",
        "info['Cropped'].extend(cropped)"
      ],
      "metadata": {
        "id": "_i-0izFeUlyA"
      },
      "execution_count": null,
      "outputs": []
    },
    {
      "cell_type": "code",
      "source": [
        "origa_csv = pd.DataFrame(info)\n",
        "origa_csv.head()"
      ],
      "metadata": {
        "id": "7jwFTCfwXP0w",
        "colab": {
          "base_uri": "https://localhost:8080/",
          "height": 206
        },
        "outputId": "206c6380-16dc-4f6b-a955-9fbc32bda105"
      },
      "execution_count": null,
      "outputs": [
        {
          "output_type": "execute_result",
          "data": {
            "text/plain": [
              "                                               Image Source  Cropped     CDR  \\\n",
              "0  /content/drive/My Drive/ForKaggle/Cropped_Data...  Origa     True  0.7097   \n",
              "1  /content/drive/My Drive/ForKaggle/Cropped_Data...  Origa     True  0.6953   \n",
              "2  /content/drive/My Drive/ForKaggle/Cropped_Data...  Origa     True  0.9629   \n",
              "3  /content/drive/My Drive/ForKaggle/Cropped_Data...  Origa     True  0.7246   \n",
              "4  /content/drive/My Drive/ForKaggle/Cropped_Data...  Origa     True  0.6138   \n",
              "\n",
              "    Ecc-Cup  Ecc-Disc  Label  \n",
              "0  0.636027  0.580909      0  \n",
              "1  0.575024  0.608413      0  \n",
              "2  0.299303  0.262828      0  \n",
              "3  0.503186  0.483273      0  \n",
              "4  0.500141  0.283467      0  "
            ],
            "text/html": [
              "\n",
              "  <div id=\"df-e956d55e-ccd4-4cb9-be99-36f179d220b4\">\n",
              "    <div class=\"colab-df-container\">\n",
              "      <div>\n",
              "<style scoped>\n",
              "    .dataframe tbody tr th:only-of-type {\n",
              "        vertical-align: middle;\n",
              "    }\n",
              "\n",
              "    .dataframe tbody tr th {\n",
              "        vertical-align: top;\n",
              "    }\n",
              "\n",
              "    .dataframe thead th {\n",
              "        text-align: right;\n",
              "    }\n",
              "</style>\n",
              "<table border=\"1\" class=\"dataframe\">\n",
              "  <thead>\n",
              "    <tr style=\"text-align: right;\">\n",
              "      <th></th>\n",
              "      <th>Image</th>\n",
              "      <th>Source</th>\n",
              "      <th>Cropped</th>\n",
              "      <th>CDR</th>\n",
              "      <th>Ecc-Cup</th>\n",
              "      <th>Ecc-Disc</th>\n",
              "      <th>Label</th>\n",
              "    </tr>\n",
              "  </thead>\n",
              "  <tbody>\n",
              "    <tr>\n",
              "      <th>0</th>\n",
              "      <td>/content/drive/My Drive/ForKaggle/Cropped_Data...</td>\n",
              "      <td>Origa</td>\n",
              "      <td>True</td>\n",
              "      <td>0.7097</td>\n",
              "      <td>0.636027</td>\n",
              "      <td>0.580909</td>\n",
              "      <td>0</td>\n",
              "    </tr>\n",
              "    <tr>\n",
              "      <th>1</th>\n",
              "      <td>/content/drive/My Drive/ForKaggle/Cropped_Data...</td>\n",
              "      <td>Origa</td>\n",
              "      <td>True</td>\n",
              "      <td>0.6953</td>\n",
              "      <td>0.575024</td>\n",
              "      <td>0.608413</td>\n",
              "      <td>0</td>\n",
              "    </tr>\n",
              "    <tr>\n",
              "      <th>2</th>\n",
              "      <td>/content/drive/My Drive/ForKaggle/Cropped_Data...</td>\n",
              "      <td>Origa</td>\n",
              "      <td>True</td>\n",
              "      <td>0.9629</td>\n",
              "      <td>0.299303</td>\n",
              "      <td>0.262828</td>\n",
              "      <td>0</td>\n",
              "    </tr>\n",
              "    <tr>\n",
              "      <th>3</th>\n",
              "      <td>/content/drive/My Drive/ForKaggle/Cropped_Data...</td>\n",
              "      <td>Origa</td>\n",
              "      <td>True</td>\n",
              "      <td>0.7246</td>\n",
              "      <td>0.503186</td>\n",
              "      <td>0.483273</td>\n",
              "      <td>0</td>\n",
              "    </tr>\n",
              "    <tr>\n",
              "      <th>4</th>\n",
              "      <td>/content/drive/My Drive/ForKaggle/Cropped_Data...</td>\n",
              "      <td>Origa</td>\n",
              "      <td>True</td>\n",
              "      <td>0.6138</td>\n",
              "      <td>0.500141</td>\n",
              "      <td>0.283467</td>\n",
              "      <td>0</td>\n",
              "    </tr>\n",
              "  </tbody>\n",
              "</table>\n",
              "</div>\n",
              "      <button class=\"colab-df-convert\" onclick=\"convertToInteractive('df-e956d55e-ccd4-4cb9-be99-36f179d220b4')\"\n",
              "              title=\"Convert this dataframe to an interactive table.\"\n",
              "              style=\"display:none;\">\n",
              "        \n",
              "  <svg xmlns=\"http://www.w3.org/2000/svg\" height=\"24px\"viewBox=\"0 0 24 24\"\n",
              "       width=\"24px\">\n",
              "    <path d=\"M0 0h24v24H0V0z\" fill=\"none\"/>\n",
              "    <path d=\"M18.56 5.44l.94 2.06.94-2.06 2.06-.94-2.06-.94-.94-2.06-.94 2.06-2.06.94zm-11 1L8.5 8.5l.94-2.06 2.06-.94-2.06-.94L8.5 2.5l-.94 2.06-2.06.94zm10 10l.94 2.06.94-2.06 2.06-.94-2.06-.94-.94-2.06-.94 2.06-2.06.94z\"/><path d=\"M17.41 7.96l-1.37-1.37c-.4-.4-.92-.59-1.43-.59-.52 0-1.04.2-1.43.59L10.3 9.45l-7.72 7.72c-.78.78-.78 2.05 0 2.83L4 21.41c.39.39.9.59 1.41.59.51 0 1.02-.2 1.41-.59l7.78-7.78 2.81-2.81c.8-.78.8-2.07 0-2.86zM5.41 20L4 18.59l7.72-7.72 1.47 1.35L5.41 20z\"/>\n",
              "  </svg>\n",
              "      </button>\n",
              "      \n",
              "  <style>\n",
              "    .colab-df-container {\n",
              "      display:flex;\n",
              "      flex-wrap:wrap;\n",
              "      gap: 12px;\n",
              "    }\n",
              "\n",
              "    .colab-df-convert {\n",
              "      background-color: #E8F0FE;\n",
              "      border: none;\n",
              "      border-radius: 50%;\n",
              "      cursor: pointer;\n",
              "      display: none;\n",
              "      fill: #1967D2;\n",
              "      height: 32px;\n",
              "      padding: 0 0 0 0;\n",
              "      width: 32px;\n",
              "    }\n",
              "\n",
              "    .colab-df-convert:hover {\n",
              "      background-color: #E2EBFA;\n",
              "      box-shadow: 0px 1px 2px rgba(60, 64, 67, 0.3), 0px 1px 3px 1px rgba(60, 64, 67, 0.15);\n",
              "      fill: #174EA6;\n",
              "    }\n",
              "\n",
              "    [theme=dark] .colab-df-convert {\n",
              "      background-color: #3B4455;\n",
              "      fill: #D2E3FC;\n",
              "    }\n",
              "\n",
              "    [theme=dark] .colab-df-convert:hover {\n",
              "      background-color: #434B5C;\n",
              "      box-shadow: 0px 1px 3px 1px rgba(0, 0, 0, 0.15);\n",
              "      filter: drop-shadow(0px 1px 2px rgba(0, 0, 0, 0.3));\n",
              "      fill: #FFFFFF;\n",
              "    }\n",
              "  </style>\n",
              "\n",
              "      <script>\n",
              "        const buttonEl =\n",
              "          document.querySelector('#df-e956d55e-ccd4-4cb9-be99-36f179d220b4 button.colab-df-convert');\n",
              "        buttonEl.style.display =\n",
              "          google.colab.kernel.accessAllowed ? 'block' : 'none';\n",
              "\n",
              "        async function convertToInteractive(key) {\n",
              "          const element = document.querySelector('#df-e956d55e-ccd4-4cb9-be99-36f179d220b4');\n",
              "          const dataTable =\n",
              "            await google.colab.kernel.invokeFunction('convertToInteractive',\n",
              "                                                     [key], {});\n",
              "          if (!dataTable) return;\n",
              "\n",
              "          const docLinkHtml = 'Like what you see? Visit the ' +\n",
              "            '<a target=\"_blank\" href=https://colab.research.google.com/notebooks/data_table.ipynb>data table notebook</a>'\n",
              "            + ' to learn more about interactive tables.';\n",
              "          element.innerHTML = '';\n",
              "          dataTable['output_type'] = 'display_data';\n",
              "          await google.colab.output.renderOutput(dataTable, element);\n",
              "          const docLink = document.createElement('div');\n",
              "          docLink.innerHTML = docLinkHtml;\n",
              "          element.appendChild(docLink);\n",
              "        }\n",
              "      </script>\n",
              "    </div>\n",
              "  </div>\n",
              "  "
            ]
          },
          "metadata": {},
          "execution_count": 39
        }
      ]
    },
    {
      "cell_type": "code",
      "source": [
        "origa_csv.to_csv('origa_info.csv', index=False)"
      ],
      "metadata": {
        "id": "oH46AgdRYcin"
      },
      "execution_count": null,
      "outputs": []
    },
    {
      "cell_type": "markdown",
      "source": [
        "### G1020"
      ],
      "metadata": {
        "id": "K6eZwdxbY56S"
      }
    },
    {
      "cell_type": "code",
      "source": [
        "cropped = os.path.join(dataset, 'Cropped_Data')\n",
        "g1020_dir = os.path.join(cropped, 'G1020')\n",
        "os.listdir(g1020_dir)"
      ],
      "metadata": {
        "colab": {
          "base_uri": "https://localhost:8080/"
        },
        "id": "EmKimdI7Y5o2",
        "outputId": "405c88df-82ce-4fe7-8f48-e8772737b63a"
      },
      "execution_count": null,
      "outputs": [
        {
          "output_type": "execute_result",
          "data": {
            "text/plain": [
              "['Images', 'Masks', 'NerveRemoved_Images', 'G1020.csv']"
            ]
          },
          "metadata": {},
          "execution_count": 41
        }
      ]
    },
    {
      "cell_type": "code",
      "source": [
        "img_dir = os.path.join(os.path.join(g1020_dir, 'Images'), 'img')\n",
        "csv_path = os.path.join(g1020_dir, 'G1020.csv')\n",
        "mask_dir = os.path.join(os.path.join(g1020_dir, 'Masks'), 'img')"
      ],
      "metadata": {
        "id": "dp3JsnS4ZLKH"
      },
      "execution_count": null,
      "outputs": []
    },
    {
      "cell_type": "code",
      "source": [
        "g1020_info = pd.read_csv(csv_path)\n",
        "g1020_info.head()"
      ],
      "metadata": {
        "colab": {
          "base_uri": "https://localhost:8080/",
          "height": 206
        },
        "id": "aUKGMh2RZ7h3",
        "outputId": "87ad3293-4dbd-44e1-ec19-77a2d91cbb0b"
      },
      "execution_count": null,
      "outputs": [
        {
          "output_type": "execute_result",
          "data": {
            "text/plain": [
              "       imageID  binaryLabels\n",
              "0  image_0.jpg             0\n",
              "1  image_1.jpg             0\n",
              "2  image_3.jpg             0\n",
              "3  image_4.jpg             0\n",
              "4  image_5.jpg             0"
            ],
            "text/html": [
              "\n",
              "  <div id=\"df-9ad6452a-c040-4e63-9f0f-efcf14d8c76d\">\n",
              "    <div class=\"colab-df-container\">\n",
              "      <div>\n",
              "<style scoped>\n",
              "    .dataframe tbody tr th:only-of-type {\n",
              "        vertical-align: middle;\n",
              "    }\n",
              "\n",
              "    .dataframe tbody tr th {\n",
              "        vertical-align: top;\n",
              "    }\n",
              "\n",
              "    .dataframe thead th {\n",
              "        text-align: right;\n",
              "    }\n",
              "</style>\n",
              "<table border=\"1\" class=\"dataframe\">\n",
              "  <thead>\n",
              "    <tr style=\"text-align: right;\">\n",
              "      <th></th>\n",
              "      <th>imageID</th>\n",
              "      <th>binaryLabels</th>\n",
              "    </tr>\n",
              "  </thead>\n",
              "  <tbody>\n",
              "    <tr>\n",
              "      <th>0</th>\n",
              "      <td>image_0.jpg</td>\n",
              "      <td>0</td>\n",
              "    </tr>\n",
              "    <tr>\n",
              "      <th>1</th>\n",
              "      <td>image_1.jpg</td>\n",
              "      <td>0</td>\n",
              "    </tr>\n",
              "    <tr>\n",
              "      <th>2</th>\n",
              "      <td>image_3.jpg</td>\n",
              "      <td>0</td>\n",
              "    </tr>\n",
              "    <tr>\n",
              "      <th>3</th>\n",
              "      <td>image_4.jpg</td>\n",
              "      <td>0</td>\n",
              "    </tr>\n",
              "    <tr>\n",
              "      <th>4</th>\n",
              "      <td>image_5.jpg</td>\n",
              "      <td>0</td>\n",
              "    </tr>\n",
              "  </tbody>\n",
              "</table>\n",
              "</div>\n",
              "      <button class=\"colab-df-convert\" onclick=\"convertToInteractive('df-9ad6452a-c040-4e63-9f0f-efcf14d8c76d')\"\n",
              "              title=\"Convert this dataframe to an interactive table.\"\n",
              "              style=\"display:none;\">\n",
              "        \n",
              "  <svg xmlns=\"http://www.w3.org/2000/svg\" height=\"24px\"viewBox=\"0 0 24 24\"\n",
              "       width=\"24px\">\n",
              "    <path d=\"M0 0h24v24H0V0z\" fill=\"none\"/>\n",
              "    <path d=\"M18.56 5.44l.94 2.06.94-2.06 2.06-.94-2.06-.94-.94-2.06-.94 2.06-2.06.94zm-11 1L8.5 8.5l.94-2.06 2.06-.94-2.06-.94L8.5 2.5l-.94 2.06-2.06.94zm10 10l.94 2.06.94-2.06 2.06-.94-2.06-.94-.94-2.06-.94 2.06-2.06.94z\"/><path d=\"M17.41 7.96l-1.37-1.37c-.4-.4-.92-.59-1.43-.59-.52 0-1.04.2-1.43.59L10.3 9.45l-7.72 7.72c-.78.78-.78 2.05 0 2.83L4 21.41c.39.39.9.59 1.41.59.51 0 1.02-.2 1.41-.59l7.78-7.78 2.81-2.81c.8-.78.8-2.07 0-2.86zM5.41 20L4 18.59l7.72-7.72 1.47 1.35L5.41 20z\"/>\n",
              "  </svg>\n",
              "      </button>\n",
              "      \n",
              "  <style>\n",
              "    .colab-df-container {\n",
              "      display:flex;\n",
              "      flex-wrap:wrap;\n",
              "      gap: 12px;\n",
              "    }\n",
              "\n",
              "    .colab-df-convert {\n",
              "      background-color: #E8F0FE;\n",
              "      border: none;\n",
              "      border-radius: 50%;\n",
              "      cursor: pointer;\n",
              "      display: none;\n",
              "      fill: #1967D2;\n",
              "      height: 32px;\n",
              "      padding: 0 0 0 0;\n",
              "      width: 32px;\n",
              "    }\n",
              "\n",
              "    .colab-df-convert:hover {\n",
              "      background-color: #E2EBFA;\n",
              "      box-shadow: 0px 1px 2px rgba(60, 64, 67, 0.3), 0px 1px 3px 1px rgba(60, 64, 67, 0.15);\n",
              "      fill: #174EA6;\n",
              "    }\n",
              "\n",
              "    [theme=dark] .colab-df-convert {\n",
              "      background-color: #3B4455;\n",
              "      fill: #D2E3FC;\n",
              "    }\n",
              "\n",
              "    [theme=dark] .colab-df-convert:hover {\n",
              "      background-color: #434B5C;\n",
              "      box-shadow: 0px 1px 3px 1px rgba(0, 0, 0, 0.15);\n",
              "      filter: drop-shadow(0px 1px 2px rgba(0, 0, 0, 0.3));\n",
              "      fill: #FFFFFF;\n",
              "    }\n",
              "  </style>\n",
              "\n",
              "      <script>\n",
              "        const buttonEl =\n",
              "          document.querySelector('#df-9ad6452a-c040-4e63-9f0f-efcf14d8c76d button.colab-df-convert');\n",
              "        buttonEl.style.display =\n",
              "          google.colab.kernel.accessAllowed ? 'block' : 'none';\n",
              "\n",
              "        async function convertToInteractive(key) {\n",
              "          const element = document.querySelector('#df-9ad6452a-c040-4e63-9f0f-efcf14d8c76d');\n",
              "          const dataTable =\n",
              "            await google.colab.kernel.invokeFunction('convertToInteractive',\n",
              "                                                     [key], {});\n",
              "          if (!dataTable) return;\n",
              "\n",
              "          const docLinkHtml = 'Like what you see? Visit the ' +\n",
              "            '<a target=\"_blank\" href=https://colab.research.google.com/notebooks/data_table.ipynb>data table notebook</a>'\n",
              "            + ' to learn more about interactive tables.';\n",
              "          element.innerHTML = '';\n",
              "          dataTable['output_type'] = 'display_data';\n",
              "          await google.colab.output.renderOutput(dataTable, element);\n",
              "          const docLink = document.createElement('div');\n",
              "          docLink.innerHTML = docLinkHtml;\n",
              "          element.appendChild(docLink);\n",
              "        }\n",
              "      </script>\n",
              "    </div>\n",
              "  </div>\n",
              "  "
            ]
          },
          "metadata": {},
          "execution_count": 43
        }
      ]
    },
    {
      "cell_type": "code",
      "source": [
        "bad_inds = ['700', '1227', '2308', '2656']"
      ],
      "metadata": {
        "id": "rQLgsVLBhSDa"
      },
      "execution_count": null,
      "outputs": []
    },
    {
      "cell_type": "code",
      "source": [
        "to_drop = []\n",
        "for index, row in g1020_info.iterrows():\n",
        "  for ind in bad_inds:\n",
        "    if ind in row['imageID']:\n",
        "      to_drop.append(index)"
      ],
      "metadata": {
        "id": "rjSvMW-BhMxE"
      },
      "execution_count": null,
      "outputs": []
    },
    {
      "cell_type": "code",
      "source": [
        "g1020_info.drop(labels=to_drop, axis=0, inplace=True)"
      ],
      "metadata": {
        "id": "j1hBDa1ojBrf"
      },
      "execution_count": null,
      "outputs": []
    },
    {
      "cell_type": "code",
      "source": [
        "# info = {'Image': [], 'Source': [], 'Cropped': [], 'CDR': [], 'Ecc-Cup': [], 'Ecc-Disc': [], 'Label': []}\n",
        "img_paths = [os.path.join(img_dir, f) for f in g1020_info['imageID']]\n",
        "msk_paths = [os.path.join(mask_dir, f[:-4]+'.png') for f in g1020_info['imageID']]\n",
        "info['Image'].extend(img_paths)\n",
        "info['Label'].extend(list(g1020_info['binaryLabels'])) \n",
        "ecc_cup_g1020 = []\n",
        "ecc_disc_g1020 = []\n",
        "cdr_g1020 = []\n",
        "for f in msk_paths:\n",
        "  mask_arr = get_mask_from_path(f)\n",
        "  # print(f)\n",
        "  try:\n",
        "    cdr, cecc, decc = get_numerical_features(mask_arr)\n",
        "  except:\n",
        "    print(f'ERROR Filename: {f}')\n",
        "  ecc_cup_g1020.append(cecc)\n",
        "  ecc_disc_g1020.append(decc)\n",
        "  cdr_g1020.append(cdr)\n",
        "\n",
        "info['CDR'].extend(cdr_g1020)\n",
        "info['Ecc-Cup'].extend(ecc_cup_g1020)\n",
        "info['Ecc-Disc'].extend(ecc_disc_g1020)\n",
        "source = ['G1020']*len(ecc_cup_g1020)\n",
        "info['Source'].extend(source)\n",
        "cropped = [True]*len(ecc_cup_g1020)\n",
        "info['Cropped'].extend(cropped)"
      ],
      "metadata": {
        "id": "HV0TwJEoZ-yG"
      },
      "execution_count": null,
      "outputs": []
    },
    {
      "cell_type": "code",
      "source": [
        "origa_g1020_df = pd.DataFrame(info)\n",
        "origa_g1020_df.tail()"
      ],
      "metadata": {
        "colab": {
          "base_uri": "https://localhost:8080/",
          "height": 206
        },
        "id": "7mm4YYoujf5H",
        "outputId": "bad4d516-74de-4b3d-85f1-37100e208be2"
      },
      "execution_count": null,
      "outputs": [
        {
          "output_type": "execute_result",
          "data": {
            "text/plain": [
              "                                                  Image Source  Cropped  \\\n",
              "1659  /content/drive/My Drive/ForKaggle/Cropped_Data...  G1020     True   \n",
              "1660  /content/drive/My Drive/ForKaggle/Cropped_Data...  G1020     True   \n",
              "1661  /content/drive/My Drive/ForKaggle/Cropped_Data...  G1020     True   \n",
              "1662  /content/drive/My Drive/ForKaggle/Cropped_Data...  G1020     True   \n",
              "1663  /content/drive/My Drive/ForKaggle/Cropped_Data...  G1020     True   \n",
              "\n",
              "           CDR   Ecc-Cup  Ecc-Disc  Label  \n",
              "1659  0.366169  0.569047  0.487410      0  \n",
              "1660  0.643031  0.459149  0.330510      0  \n",
              "1661  0.487790  0.439424  0.439489      1  \n",
              "1662  0.555098  0.466561  0.518132      1  \n",
              "1663       NaN       NaN  0.852223      0  "
            ],
            "text/html": [
              "\n",
              "  <div id=\"df-6a8eed0c-711d-4f8d-85a9-4bf415413ad8\">\n",
              "    <div class=\"colab-df-container\">\n",
              "      <div>\n",
              "<style scoped>\n",
              "    .dataframe tbody tr th:only-of-type {\n",
              "        vertical-align: middle;\n",
              "    }\n",
              "\n",
              "    .dataframe tbody tr th {\n",
              "        vertical-align: top;\n",
              "    }\n",
              "\n",
              "    .dataframe thead th {\n",
              "        text-align: right;\n",
              "    }\n",
              "</style>\n",
              "<table border=\"1\" class=\"dataframe\">\n",
              "  <thead>\n",
              "    <tr style=\"text-align: right;\">\n",
              "      <th></th>\n",
              "      <th>Image</th>\n",
              "      <th>Source</th>\n",
              "      <th>Cropped</th>\n",
              "      <th>CDR</th>\n",
              "      <th>Ecc-Cup</th>\n",
              "      <th>Ecc-Disc</th>\n",
              "      <th>Label</th>\n",
              "    </tr>\n",
              "  </thead>\n",
              "  <tbody>\n",
              "    <tr>\n",
              "      <th>1659</th>\n",
              "      <td>/content/drive/My Drive/ForKaggle/Cropped_Data...</td>\n",
              "      <td>G1020</td>\n",
              "      <td>True</td>\n",
              "      <td>0.366169</td>\n",
              "      <td>0.569047</td>\n",
              "      <td>0.487410</td>\n",
              "      <td>0</td>\n",
              "    </tr>\n",
              "    <tr>\n",
              "      <th>1660</th>\n",
              "      <td>/content/drive/My Drive/ForKaggle/Cropped_Data...</td>\n",
              "      <td>G1020</td>\n",
              "      <td>True</td>\n",
              "      <td>0.643031</td>\n",
              "      <td>0.459149</td>\n",
              "      <td>0.330510</td>\n",
              "      <td>0</td>\n",
              "    </tr>\n",
              "    <tr>\n",
              "      <th>1661</th>\n",
              "      <td>/content/drive/My Drive/ForKaggle/Cropped_Data...</td>\n",
              "      <td>G1020</td>\n",
              "      <td>True</td>\n",
              "      <td>0.487790</td>\n",
              "      <td>0.439424</td>\n",
              "      <td>0.439489</td>\n",
              "      <td>1</td>\n",
              "    </tr>\n",
              "    <tr>\n",
              "      <th>1662</th>\n",
              "      <td>/content/drive/My Drive/ForKaggle/Cropped_Data...</td>\n",
              "      <td>G1020</td>\n",
              "      <td>True</td>\n",
              "      <td>0.555098</td>\n",
              "      <td>0.466561</td>\n",
              "      <td>0.518132</td>\n",
              "      <td>1</td>\n",
              "    </tr>\n",
              "    <tr>\n",
              "      <th>1663</th>\n",
              "      <td>/content/drive/My Drive/ForKaggle/Cropped_Data...</td>\n",
              "      <td>G1020</td>\n",
              "      <td>True</td>\n",
              "      <td>NaN</td>\n",
              "      <td>NaN</td>\n",
              "      <td>0.852223</td>\n",
              "      <td>0</td>\n",
              "    </tr>\n",
              "  </tbody>\n",
              "</table>\n",
              "</div>\n",
              "      <button class=\"colab-df-convert\" onclick=\"convertToInteractive('df-6a8eed0c-711d-4f8d-85a9-4bf415413ad8')\"\n",
              "              title=\"Convert this dataframe to an interactive table.\"\n",
              "              style=\"display:none;\">\n",
              "        \n",
              "  <svg xmlns=\"http://www.w3.org/2000/svg\" height=\"24px\"viewBox=\"0 0 24 24\"\n",
              "       width=\"24px\">\n",
              "    <path d=\"M0 0h24v24H0V0z\" fill=\"none\"/>\n",
              "    <path d=\"M18.56 5.44l.94 2.06.94-2.06 2.06-.94-2.06-.94-.94-2.06-.94 2.06-2.06.94zm-11 1L8.5 8.5l.94-2.06 2.06-.94-2.06-.94L8.5 2.5l-.94 2.06-2.06.94zm10 10l.94 2.06.94-2.06 2.06-.94-2.06-.94-.94-2.06-.94 2.06-2.06.94z\"/><path d=\"M17.41 7.96l-1.37-1.37c-.4-.4-.92-.59-1.43-.59-.52 0-1.04.2-1.43.59L10.3 9.45l-7.72 7.72c-.78.78-.78 2.05 0 2.83L4 21.41c.39.39.9.59 1.41.59.51 0 1.02-.2 1.41-.59l7.78-7.78 2.81-2.81c.8-.78.8-2.07 0-2.86zM5.41 20L4 18.59l7.72-7.72 1.47 1.35L5.41 20z\"/>\n",
              "  </svg>\n",
              "      </button>\n",
              "      \n",
              "  <style>\n",
              "    .colab-df-container {\n",
              "      display:flex;\n",
              "      flex-wrap:wrap;\n",
              "      gap: 12px;\n",
              "    }\n",
              "\n",
              "    .colab-df-convert {\n",
              "      background-color: #E8F0FE;\n",
              "      border: none;\n",
              "      border-radius: 50%;\n",
              "      cursor: pointer;\n",
              "      display: none;\n",
              "      fill: #1967D2;\n",
              "      height: 32px;\n",
              "      padding: 0 0 0 0;\n",
              "      width: 32px;\n",
              "    }\n",
              "\n",
              "    .colab-df-convert:hover {\n",
              "      background-color: #E2EBFA;\n",
              "      box-shadow: 0px 1px 2px rgba(60, 64, 67, 0.3), 0px 1px 3px 1px rgba(60, 64, 67, 0.15);\n",
              "      fill: #174EA6;\n",
              "    }\n",
              "\n",
              "    [theme=dark] .colab-df-convert {\n",
              "      background-color: #3B4455;\n",
              "      fill: #D2E3FC;\n",
              "    }\n",
              "\n",
              "    [theme=dark] .colab-df-convert:hover {\n",
              "      background-color: #434B5C;\n",
              "      box-shadow: 0px 1px 3px 1px rgba(0, 0, 0, 0.15);\n",
              "      filter: drop-shadow(0px 1px 2px rgba(0, 0, 0, 0.3));\n",
              "      fill: #FFFFFF;\n",
              "    }\n",
              "  </style>\n",
              "\n",
              "      <script>\n",
              "        const buttonEl =\n",
              "          document.querySelector('#df-6a8eed0c-711d-4f8d-85a9-4bf415413ad8 button.colab-df-convert');\n",
              "        buttonEl.style.display =\n",
              "          google.colab.kernel.accessAllowed ? 'block' : 'none';\n",
              "\n",
              "        async function convertToInteractive(key) {\n",
              "          const element = document.querySelector('#df-6a8eed0c-711d-4f8d-85a9-4bf415413ad8');\n",
              "          const dataTable =\n",
              "            await google.colab.kernel.invokeFunction('convertToInteractive',\n",
              "                                                     [key], {});\n",
              "          if (!dataTable) return;\n",
              "\n",
              "          const docLinkHtml = 'Like what you see? Visit the ' +\n",
              "            '<a target=\"_blank\" href=https://colab.research.google.com/notebooks/data_table.ipynb>data table notebook</a>'\n",
              "            + ' to learn more about interactive tables.';\n",
              "          element.innerHTML = '';\n",
              "          dataTable['output_type'] = 'display_data';\n",
              "          await google.colab.output.renderOutput(dataTable, element);\n",
              "          const docLink = document.createElement('div');\n",
              "          docLink.innerHTML = docLinkHtml;\n",
              "          element.appendChild(docLink);\n",
              "        }\n",
              "      </script>\n",
              "    </div>\n",
              "  </div>\n",
              "  "
            ]
          },
          "metadata": {},
          "execution_count": 48
        }
      ]
    },
    {
      "cell_type": "code",
      "source": [
        "origa_g1020_df.to_csv('origa_g1020.csv', index=False)"
      ],
      "metadata": {
        "id": "zXMDbJuYjsal"
      },
      "execution_count": null,
      "outputs": []
    },
    {
      "cell_type": "code",
      "source": [
        ""
      ],
      "metadata": {
        "id": "nrZ6Fx5yZvul"
      },
      "execution_count": null,
      "outputs": []
    }
  ]
}