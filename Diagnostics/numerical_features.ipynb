{
  "nbformat": 4,
  "nbformat_minor": 0,
  "metadata": {
    "colab": {
      "name": "numerical_features",
      "provenance": [],
      "collapsed_sections": []
    },
    "kernelspec": {
      "name": "python3",
      "display_name": "Python 3"
    },
    "language_info": {
      "name": "python"
    }
  },
  "cells": [
    {
      "cell_type": "markdown",
      "source": [
        "# Data Preprocessing"
      ],
      "metadata": {
        "id": "uShAIgsE8OmZ"
      }
    },
    {
      "cell_type": "code",
      "source": [
        "import numpy as np\n",
        "import pandas as pd\n",
        "from sklearn.model_selection import train_test_split\n",
        "from sklearn.ensemble import RandomForestClassifier, GradientBoostingClassifier\n",
        "from sklearn.linear_model import LogisticRegression\n",
        "from sklearn import tree, metrics, svm, neighbors\n",
        "\n",
        "df = pd.read_csv('origa_g1020_refuge.csv')\n",
        "df = df.dropna()\n",
        "df = df.drop(columns=['Image', 'Source', 'Cropped'], axis=1)\n",
        "df = df.drop(columns=['Ecc-Cup', 'Ecc-Disc'], axis=1)\n",
        "y = df['Label']\n",
        "X = df.drop(columns=['Label'])\n",
        "\n",
        "Xoriga, yoriga, Xg, yg, Xrefuge, yrefuge = [], [], [], [], [], []\n",
        "\n",
        "for num, i in enumerate(X.iterrows()):\n",
        "    if num <= 649:\n",
        "        Xoriga.append(i[1]['CDR'])\n",
        "        yoriga.append(y.iloc[num])\n",
        "    elif num >= 1436:\n",
        "        Xrefuge.append(i[1]['CDR'])\n",
        "        yrefuge.append(y.iloc[num])\n",
        "    else:\n",
        "        Xg.append(i[1]['CDR'])\n",
        "        yg.append(y.iloc[num])\n",
        "\n",
        "Xoriga, Xg, Xrefuge, yoriga, yg, yrefuge = np.array(Xoriga), np.array(Xg), np.array(Xrefuge), np.array(yoriga), np.array(yg), np.array(yrefuge)"
      ],
      "metadata": {
        "id": "Qfwnuv3CWp_w"
      },
      "execution_count": 73,
      "outputs": []
    },
    {
      "cell_type": "markdown",
      "source": [
        "# Cross-Dataset Evaluation"
      ],
      "metadata": {
        "id": "9w3l6h5h54dJ"
      }
    },
    {
      "cell_type": "code",
      "source": [
        "Xtrain = np.concatenate((Xg, Xrefuge), axis=0)\n",
        "Xtrain = Xtrain.reshape(-1, 1)\n",
        "Xtest = Xoriga\n",
        "Xtest = Xtest.reshape(-1, 1)\n",
        "ytrain = np.concatenate((yg, yrefuge), axis=0)\n",
        "ytest = yoriga\n",
        "\n",
        "# clf = LogisticRegression()\n",
        "clf = RandomForestClassifier(n_estimators = 25)\n",
        "clf.fit(Xtrain, ytrain)\n",
        "ypred = clf.predict(Xtest)\n",
        "print(metrics.accuracy_score(ytrain, clf.predict(Xtrain)), metrics.accuracy_score(ytest, clf.predict(Xtest)))\n",
        "print(metrics.roc_auc_score(ytest, clf.predict(Xtest)))"
      ],
      "metadata": {
        "colab": {
          "base_uri": "https://localhost:8080/"
        },
        "id": "R5bROF1D2pTu",
        "outputId": "edf2d37c-5ad1-4407-ddaa-ff790044eedc"
      },
      "execution_count": 84,
      "outputs": [
        {
          "output_type": "stream",
          "name": "stdout",
          "text": [
            "0.9898819561551433 0.6846153846153846\n",
            "0.6225424817229797\n"
          ]
        }
      ]
    },
    {
      "cell_type": "markdown",
      "source": [
        "# Individual Dataset Evaluation"
      ],
      "metadata": {
        "id": "QWUoPuFo6L4G"
      }
    },
    {
      "cell_type": "code",
      "source": [
        "Xtrain, Xtest, ytrain, ytest = train_test_split(Xrefuge, yrefuge, test_size=0.2)\n",
        "Xtrain = Xtrain.reshape(-1, 1)\n",
        "Xtest = Xtest.reshape(-1, 1)\n",
        "\n",
        "# clf = LogisticRegression()\n",
        "clf = RandomForestClassifier(n_estimators = 25)\n",
        "clf.fit(Xtrain, ytrain)\n",
        "ypred = clf.predict(Xtest)\n",
        "print(metrics.accuracy_score(ytrain, clf.predict(Xtrain)), metrics.accuracy_score(ytest, clf.predict(Xtest)))\n",
        "print(metrics.roc_auc_score(ytest, clf.predict(Xtest)))"
      ],
      "metadata": {
        "colab": {
          "base_uri": "https://localhost:8080/"
        },
        "id": "S2a0RVdi6Nr-",
        "outputId": "4c4bb4b4-bd9a-4627-aa20-a0c928b92dad"
      },
      "execution_count": 100,
      "outputs": [
        {
          "output_type": "stream",
          "name": "stdout",
          "text": [
            "0.996875 0.9125\n",
            "0.8228962818003914\n"
          ]
        }
      ]
    }
  ]
}